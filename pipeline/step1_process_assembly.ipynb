{
 "cells": [
  {
   "cell_type": "code",
   "execution_count": 2,
   "id": "0545daf7-f61c-4da3-a975-beb31311465c",
   "metadata": {},
   "outputs": [],
   "source": [
    "import os\n",
    "import sys\n",
    "import time\n",
    "import glob\n",
    "import shutil\n",
    "import argparse\n",
    "import subprocess\n",
    "import numpy as np\n",
    "import pandas as pd"
   ]
  },
  {
   "cell_type": "code",
   "execution_count": 3,
   "id": "2bcfce0d-0a24-4897-96ba-a791adb0e89d",
   "metadata": {},
   "outputs": [],
   "source": [
    "base_dir = \"./\"\n",
    "ref_gen_intersection_gff_fname = \"refseq_vs_gencode_intersection.prot_lnc.no_alts.no_fixs.clean.gff\"\n",
    "tb_filtered_gtf_fname = \"ALL_TBref.annotated.gtf\"\n",
    "genome_fa = \"hg38_p12_ucsc.no_alts.no_fixs.fa\"\n",
    "num_threads = 10\n",
    "num_samples_per_call = 20"
   ]
  },
  {
   "cell_type": "code",
   "execution_count": null,
   "id": "406668a0-62eb-46d6-8e02-61883b2a2db3",
   "metadata": {},
   "outputs": [],
   "source": [
    "step1_cmd = [base_dir+\"soft/pipeline/process_assembly.py\",\n",
    "             \"--input\",base_dir+\"data/GTEx_crams.csv\",\n",
    "             \"--outdir\",base_dir+\"step1\",\n",
    "             \"--threads\",str(num_threads),\n",
    "             \"--num_samples_per_call\",str(num_samples_per_call),\n",
    "             \"--ALL_tracking\",base_dir+\"data/ALL.combined.tracking\",\n",
    "             \"--ALL_gtf\",base_dir+\"data/ALL.combined.gtf\",\n",
    "             \"--tiecov\",base_dir+\"soft/scripts/tiecov_sjs/tiecov_sjs\",\n",
    "             \"--assembly_stats\",base_dir+\"soft/scripts/assembly_stats/assembly_stats\",\n",
    "             \"--tissue_trackings\",base_dir+\"data/tissues.lst\",\n",
    "             \"--tissue_gtfs\",base_dir+\"data/tissues.gtfs\",\n",
    "             \"--reference\",genome_fa+\".fai\"]\n",
    "print(\" \".join(step1_cmd))\n",
    "subprocess.call(step1_cmd)"
   ]
  },
  {
   "cell_type": "code",
   "execution_count": 29,
   "id": "40104363-c250-43bf-b160-7d2fdbf61077",
   "metadata": {},
   "outputs": [],
   "source": [
    "# obtain a version of TB filtered file with only \"=\" transcripts\n",
    "with open(base_dir+\"data/tb.filtered.eq.gtf\",\"w+\") as outFP:\n",
    "    with open(tb_filtered_gtf_fname,\"r\") as inFP:\n",
    "        cur_tid = None\n",
    "        for line in inFP:\n",
    "            line = line.rstrip(\"\\n\")\n",
    "            cols = line.split(\"\\t\")\n",
    "            if cols[2]==\"transcript\":\n",
    "                code = cols[8].split(\"class_code \\\"\",1)[1].split(\"\\\"\",1)[0]\n",
    "                if code==\"=\":\n",
    "                    cur_tid = cols[8].split(\"transcript_id \\\"\",1)[1].split(\"\\\"\",1)[0]\n",
    "                    outFP.write(line+\"\\n\")\n",
    "                else:\n",
    "                    cur_tid = None\n",
    "            else:\n",
    "                if cur_tid is not None:\n",
    "                    outFP.write(line+\"\\n\")"
   ]
  },
  {
   "cell_type": "code",
   "execution_count": 4,
   "id": "b5ecaa89-5f9c-499c-ad39-35da177dec35",
   "metadata": {},
   "outputs": [],
   "source": [
    "# write a setup file for fetching annotations and fetch\n",
    "with open(base_dir+\"data/setup.fetch_annotations\",\"w+\") as outFP:\n",
    "    outFP.write(\"chess2,http://ccb.jhu.edu/chess/data/chess2.2_assembly.gtf.gz\"+\"\\n\")\n",
    "    outFP.write(\"refgen,\"+ref_gen_intersection_gff_fname+\"\\n\")\n",
    "    outFP.write(\"refseq,https://ftp.ncbi.nlm.nih.gov/refseq/H_sapiens/annotation/GRCh38_latest/refseq_identifiers/GRCh38_latest_genomic.gff.gz\"+\"\\n\")\n",
    "    outFP.write(\"gencode,http://ftp.ebi.ac.uk/pub/databases/gencode/Gencode_human/release_38/gencode.v38.primary_assembly.annotation.gtf.gz\"+\"\\n\")\n",
    "    outFP.write(\"1M,\"+base_dir+\"data/tb.filtered.eq.gtf\"+\"\\n\")\n",
    "    outFP.write(\"27M,\"+base_dir+\"data/ALL.combined.gtf\"+\"\\n\")\n",
    "    outFP.write(\"MANE,https://ftp.ncbi.nlm.nih.gov/refseq/MANE/MANE_human/release_1.0/MANE.GRCh38.v1.0.ensembl_genomic.gtf.gz\"+\"\\n\")\n",
    "    outFP.write(\"noncode,http://www.noncode.org/datadownload/NONCODEv5_human_hg38_lncRNA.gtf.gz\"+\"\\n\")\n",
    "    outFP.write(\"ensembl,ftp://ftp.ensembl.org/pub/release-99/gtf/homo_sapiens/Homo_sapiens.GRCh38.99.gtf.gz\"+\"\\n\")\n",
    "    outFP.write(\"lncpedia,https://lncipedia.org/downloads/lncipedia_5_2/full-database/lncipedia_5_2_hg38.gff\"+\"\\n\")\n",
    "\n",
    "fetch_cmd = [base_dir+\"soft/scripts/genomic_scripts/fetch_annotations/fetch_annotations.py\",\n",
    "             \"-s\",base_dir+\"data/setup.fetch_annotations\",\n",
    "             \"-o\",base_dir+\"data/latest_gtfs/\"]\n",
    "# subprocess.call(fetch_cmd)"
   ]
  },
  {
   "cell_type": "code",
   "execution_count": null,
   "id": "17948ad9-db3d-4ae2-8195-8decd50644b2",
   "metadata": {},
   "outputs": [],
   "source": [
    "## for each also create a version on the same scaffolds as the reference genome used in alignment and assembly\n",
    "\n",
    "ref_seqids = set()\n",
    "with open(genome_fa+\".fai\",\"r\") as inFP:\n",
    "    for line in inFP:\n",
    "        lcs = line.rstrip().split(\"\\t\")\n",
    "        seqid = lcs[0]\n",
    "        ref_seqids.add(seqid)\n",
    "\n",
    "gtf_fnames = list()\n",
    "with open(base_dir+\"data/setup.fetch_annotations\",\"r\") as setupFP:\n",
    "    for line in setupFP:\n",
    "        tmp = base_dir+\"data/latest_gtfs/\"+line.split(\",\")[0]+\".gtf\"\n",
    "        if os.path.exists(tmp):\n",
    "            gtf_fnames.append(tmp)\n",
    "            \n",
    "for fname in gtf_fnames:\n",
    "    out_fname = fname.rstrip(\".gtf\")\n",
    "    out_fname += \".primary.gtf\"\n",
    "    print(fname,out_fname)\n",
    "    with open(out_fname,\"w+\") as outFP:\n",
    "        with open(fname,\"r\") as inFP:\n",
    "            for line in inFP:\n",
    "                if line[0]==\"#\":\n",
    "                    outFP.write(line)\n",
    "                seqid = line.split(\"\\t\")[0]\n",
    "                if seqid in ref_seqids:\n",
    "                    outFP.write(line)"
   ]
  },
  {
   "cell_type": "code",
   "execution_count": 37,
   "id": "9ba93ed1-78d5-4e22-8059-6b549b95bb18",
   "metadata": {},
   "outputs": [
    {
     "data": {
      "text/plain": [
       "0"
      ]
     },
     "execution_count": 37,
     "metadata": {},
     "output_type": "execute_result"
    }
   ],
   "source": [
    "# all v all to find everything known from TB set\n",
    "\n",
    "if not os.path.exists(base_dir+\"data/latest_gtfs/gffcmp_multi.1M/\"):\n",
    "    os.makedirs(base_dir+\"data/latest_gtfs/gffcmp_multi.1M/\")\n",
    "\n",
    "setup_fname = base_dir+\"data/latest_gtfs/gffcmp_multi.1M/gffcmp_multi.1M.setup.csv\"\n",
    "with open(setup_fname,\"w+\") as setup_fp:\n",
    "    setup_fp.write(\"1M,\"+base_dir+\"data/latest_gtfs/1M.primary.gtf\\n\")\n",
    "    setup_fp.write(\"gencode,\"+base_dir+\"data/latest_gtfs/gencode.primary.gtf\\n\")\n",
    "    setup_fp.write(\"refseq,\"+base_dir+\"data/latest_gtfs/refseq.primary.gtf\\n\")\n",
    "    setup_fp.write(\"refgen,\"+base_dir+\"data/latest_gtfs/refgen.primary.gtf\\n\")\n",
    "    setup_fp.write(\"MANE,\"+base_dir+\"data/latest_gtfs/MANE.primary.gtf\\n\")\n",
    "\n",
    "gcm_cmd = [base_dir+\"soft/scripts/genomic_scripts/gffcmp_multi/gffcmp_multi.py\",\n",
    "           \"-s\",base_dir+\"data/latest_gtfs/gffcmp_multi.1M/gffcmp_multi.1M.setup.csv\",\n",
    "           \"-o\",base_dir+\"data/latest_gtfs/gffcmp_multi.1M/gffcmp_multi.1M\",\n",
    "           \"--keep-tmp\"]\n",
    "subprocess.call(gcm_cmd)"
   ]
  },
  {
   "cell_type": "code",
   "execution_count": null,
   "id": "fc9d18f0-4c5c-488f-ac95-c258aea3ddd4",
   "metadata": {},
   "outputs": [],
   "source": [
    "# all v all to find everything known from original set\n",
    "\n",
    "if not os.path.exists(base_dir+\"data/latest_gtfs/gffcmp_multi.27M/\"):\n",
    "    os.makedirs(base_dir+\"data/latest_gtfs/gffcmp_multi.27M/\")\n",
    "\n",
    "setup_fname = base_dir+\"data/latest_gtfs/gffcmp_multi.27M/gffcmp_multi.27M.setup.csv\"\n",
    "with open(setup_fname,\"w+\") as setup_fp:\n",
    "    setup_fp.write(\"27M,\"+base_dir+\"data/latest_gtfs/27M.primary.gtf\\n\")\n",
    "    setup_fp.write(\"gencode,\"+base_dir+\"data/latest_gtfs/gencode.primary.gtf\\n\")\n",
    "    setup_fp.write(\"refseq,\"+base_dir+\"data/latest_gtfs/refseq.primary.gtf\\n\")\n",
    "#     setup_fp.write(\"refgen,\"+base_dir+\"data/latest_gtfs/refgen.primary.gtf\\n\")\n",
    "    setup_fp.write(\"MANE,\"+base_dir+\"data/latest_gtfs/MANE.primary.gtf\\n\")\n",
    "\n",
    "gcm_cmd = [base_dir+\"soft/scripts/genomic_scripts/gffcmp_multi/gffcmp_multi.py\",\n",
    "           \"-s\",base_dir+\"data/latest_gtfs/gffcmp_multi.27M/gffcmp_multi.27M.setup.csv\",\n",
    "           \"-o\",base_dir+\"data/latest_gtfs/gffcmp_multi.27M/gffcmp_multi.27M\",\n",
    "           \"--keep-tmp\"]\n",
    "subprocess.call(gcm_cmd)"
   ]
  },
  {
   "cell_type": "code",
   "execution_count": 14,
   "id": "75d95f66-ce71-4b5a-a0d1-0d7e52e14d73",
   "metadata": {},
   "outputs": [
    {
     "name": "stdout",
     "output_type": "stream",
     "text": [
      "gffcmp_multi.27M27M_gencode.annotated.gtf 142241 142241\n",
      "gffcmp_multi.27M27M_refseq.annotated.gtf 132677 221995\n"
     ]
    }
   ],
   "source": [
    "# build a known set across all tissues using refseq and gencode only\n",
    "\n",
    "def get_tids(fname,class_code=\"=\"):\n",
    "    tids = dict()\n",
    "    with open(fname,\"r\") as inFP:\n",
    "        for line in inFP:\n",
    "            if line[0]==\"#\":\n",
    "                continue\n",
    "                \n",
    "            cols=  line.split(\"\\t\")\n",
    "            if not cols[2]==\"transcript\":\n",
    "                continue\n",
    "\n",
    "            code = cols[8].split(\"class_code \\\"\",1)[1].split(\"\\\"\",1)[0]\n",
    "            if not code==class_code:\n",
    "                continue\n",
    "\n",
    "            tid = cols[8].split(\"cmp_ref \\\"\",1)[1].split(\"\\\"\",1)[0]\n",
    "            known_id = cols[8].split(\"transcript_id \\\"\",1)[1].split(\"\\\"\",1)[0]\n",
    "            tids.setdefault(tid,(list(),set()))\n",
    "            tids[tid][0].append(known_id)\n",
    "            if \"gene_name\" in cols[8]:\n",
    "                known_name = cols[8].split(\"gene_name \\\"\",1)[1].split(\"\\\"\",1)[0]\n",
    "                tids[tid][1].add(known_name)\n",
    "            \n",
    "    return tids\n",
    "\n",
    "fnames = [(base_dir+\"data/latest_gtfs/gffcmp_multi.27M/gffcmp_multi.27M27M_gencode.annotated.gtf\",\"GENCODE\"),\n",
    "          (base_dir+\"data/latest_gtfs/gffcmp_multi.27M/gffcmp_multi.27M27M_refseq.annotated.gtf\",\"RefSeq\")]\n",
    "\n",
    "same_tids = dict()\n",
    "\n",
    "for fname,name in fnames:\n",
    "    tmp = get_tids(fname)\n",
    "    for tid,kids in tmp.items():\n",
    "        same_tids.setdefault(tid,dict())\n",
    "        same_tids[tid][name] = (set(kids[0]),set(kids[1]))\n",
    "    print(fname.split(\"/\")[-1],len(tmp),len(same_tids))\n",
    "    \n",
    "    \n",
    "with open(base_dir+\"data/latest_gtfs/gffcmp_multi.27M/27M.known.refseq_gencode.gtf\",\"w+\") as outFP:\n",
    "    write_exons = False\n",
    "    with open(base_dir+\"data/latest_gtfs/27M.primary.gtf\",\"r\") as inFP:\n",
    "        for line in inFP:\n",
    "            if line.startswith(\"#\"):\n",
    "                outFP.write(line)\n",
    "                continue\n",
    "            \n",
    "            cols = line.split(\"\\t\")\n",
    "            if cols[2]==\"transcript\":\n",
    "                tid = cols[8].split(\"transcript_id \\\"\",1)[1].split(\"\\\"\",1)[0]\n",
    "                if tid in same_tids:\n",
    "                    line = line.rstrip(\"\\n\").rstrip(\";\")+\";\"\n",
    "                    line+=\" source \\\"\"+\",\".join(list(same_tids[tid]))+\"\\\";\"\n",
    "                    for n,v in same_tids[tid].items():\n",
    "                        line+=\" \"+n+\"_ID \\\"\"+\",\".join(list(v[0]))+\"\\\";\"\n",
    "                        if not len(v[1])==0:\n",
    "                            line+=\" \"+n+\"_gene_name \\\"\"+\",\".join(list(v[1]))+\"\\\";\"\n",
    "                    outFP.write(line+\"\\n\") \n",
    "                    write_exons=True\n",
    "                else:\n",
    "                    write_exons=False\n",
    "            else:\n",
    "                if (cols[2]==\"exon\" or cols[2]==\"CDS\") and write_exons:\n",
    "                    outFP.write(line)"
   ]
  },
  {
   "cell_type": "code",
   "execution_count": null,
   "id": "6989d594-46c7-4403-b92f-d366dbbf8f26",
   "metadata": {},
   "outputs": [],
   "source": []
  }
 ],
 "metadata": {
  "kernelspec": {
   "display_name": "Python 3 (ipykernel)",
   "language": "python",
   "name": "python3"
  },
  "language_info": {
   "codemirror_mode": {
    "name": "ipython",
    "version": 3
   },
   "file_extension": ".py",
   "mimetype": "text/x-python",
   "name": "python",
   "nbconvert_exporter": "python",
   "pygments_lexer": "ipython3",
   "version": "3.9.16"
  },
  "widgets": {
   "application/vnd.jupyter.widget-state+json": {
    "state": {},
    "version_major": 2,
    "version_minor": 0
   }
  }
 },
 "nbformat": 4,
 "nbformat_minor": 5
}
