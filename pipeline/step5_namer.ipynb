{
 "cells": [
  {
   "cell_type": "code",
   "execution_count": 2,
   "id": "45f2099a-08a8-405b-8e08-868370c413ef",
   "metadata": {},
   "outputs": [],
   "source": [
    "import pandas as pd\n",
    "import numpy as np\n",
    "import multiprocessing\n",
    "import subprocess\n",
    "import random\n",
    "import pickle\n",
    "import shutil\n",
    "import glob\n",
    "import math\n",
    "import csv\n",
    "import sys\n",
    "import os\n",
    "import re\n",
    "\n",
    "from pybedtools import BedTool\n",
    "\n",
    "import matplotlib.pyplot as plt\n",
    "from matplotlib import animation\n",
    "import seaborn as sns\n",
    "from matplotlib_venn import venn2\n",
    "from matplotlib_venn import venn3\n",
    "plt.rcParams['figure.figsize'] = (20.0, 10.0)\n",
    "plt.rcParams['font.family'] = \"serif\"\n",
    "plt.rcParams['font.size'] = 24\n",
    "%matplotlib inline\n",
    "\n",
    "gff3Cols=[\"seqid\",\"source\",\"type\",\"start\",\"end\",\"score\",\"strand\",\"phase\",\"attributes\"]"
   ]
  },
  {
   "cell_type": "code",
   "execution_count": 9,
   "id": "fada6fa6-2d84-4a75-8a80-e92e081ab140",
   "metadata": {},
   "outputs": [],
   "source": [
    "base_dir = \"./\"\n",
    "out_dir = base_dir+\"step5/\"\n",
    "if not os.path.exists(out_dir):\n",
    "    os.makedirs(out_dir)\n",
    "    \n",
    "soft_dir = base_dir+\"soft/\"\n",
    "namer_fname = soft_dir+\"scripts/genomic_scripts/namer/namer\"\n",
    "\n",
    "chess3_gtf_fname = base_dir+\"step4/chess.gtf\"\n",
    "\n",
    "data_dir = base_dir+\"data/\"\n",
    "gencode_gtf_fname = data_dir+\"latest_gtfs/gencode.primary.gtf\"\n",
    "refseq_gtf_fname = data_dir+\"latest_gtfs/refseq.primary.gtf\"\n",
    "mane_gtf_fname = data_dir+\"latest_gtfs/MANE.primary.gtf\"\n",
    "chess2_gtf_fname = data_dir+\"latest_gtfs/chess2.gtf\"\n",
    "\n",
    "ref_fasta_fname = \"hg38_p12_ucsc.no_alts.no_fixs.fa\"\n",
    "\n",
    "gffcompare_bin = \"gffcompare\"\n",
    "\n",
    "num_threads = 40"
   ]
  },
  {
   "cell_type": "code",
   "execution_count": null,
   "id": "405ea405-7ae8-477e-9590-1877e3853240",
   "metadata": {},
   "outputs": [],
   "source": [
    "# assign gene and transcript IDs with namer\n",
    "namer_out_gtf_fname = out_dir+\"chess.gtf\"\n",
    "namer_cmd = [namer_fname,\n",
    "             \"-i\",chess3_gtf_fname,\n",
    "             \"-r\",chess2_gtf_fname,\n",
    "             \"-o\",namer_out_gtf_fname]\n",
    "\n",
    "print(\" \".join(namer_cmd))\n",
    "subprocess.call(namer_cmd)"
   ]
  },
  {
   "cell_type": "code",
   "execution_count": null,
   "id": "24f65443-c347-4199-8d50-f76622c8bee1",
   "metadata": {},
   "outputs": [],
   "source": []
  }
 ],
 "metadata": {
  "kernelspec": {
   "display_name": "Python 3 (ipykernel)",
   "language": "python",
   "name": "python3"
  },
  "language_info": {
   "codemirror_mode": {
    "name": "ipython",
    "version": 3
   },
   "file_extension": ".py",
   "mimetype": "text/x-python",
   "name": "python",
   "nbconvert_exporter": "python",
   "pygments_lexer": "ipython3",
   "version": "3.9.16"
  }
 },
 "nbformat": 4,
 "nbformat_minor": 5
}
