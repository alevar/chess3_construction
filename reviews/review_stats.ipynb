{
 "cells": [
  {
   "cell_type": "code",
   "execution_count": 1,
   "id": "e38c9d31-db55-4e70-84ec-ddd5b85dfbf9",
   "metadata": {},
   "outputs": [],
   "source": [
    "# gather stats for the release"
   ]
  },
  {
   "cell_type": "code",
   "execution_count": 2,
   "id": "62e0d558-187f-438c-9834-db17fed8ede6",
   "metadata": {},
   "outputs": [],
   "source": [
    "import pandas as pd\n",
    "import numpy as np\n",
    "import subprocess\n",
    "import random\n",
    "from scipy import stats\n",
    "import pickle\n",
    "import glob\n",
    "import math\n",
    "import csv\n",
    "import sys\n",
    "import os\n",
    "import re\n",
    "\n",
    "import matplotlib.pyplot as plt\n",
    "from matplotlib import animation\n",
    "import seaborn as sns\n",
    "plt.rcParams['figure.figsize'] = (20.0, 10.0)\n",
    "plt.rcParams['font.family'] = \"serif\"\n",
    "plt.rcParams['font.size'] = 24\n",
    "%matplotlib inline"
   ]
  },
  {
   "cell_type": "code",
   "execution_count": 3,
   "id": "c91ffb29-c305-49e3-938a-1fcaa10d0be6",
   "metadata": {},
   "outputs": [],
   "source": [
    "pd.set_option('display.max_columns', None)\n",
    "\n",
    "%load_ext autoreload\n",
    "%autoreload 1\n",
    "\n",
    "sys.path.insert(0, \"./soft\")\n",
    "%aimport definitions"
   ]
  },
  {
   "cell_type": "code",
   "execution_count": 4,
   "id": "9ee4ab2b-271c-4a73-aa0b-c0a1a3df1ccd",
   "metadata": {},
   "outputs": [],
   "source": [
    "base_dir = \"./\"\n",
    "data_dir = base_dir+\"data/\"\n",
    "chess3_data_dir = data_dir+\"chess3/\"\n",
    "\n",
    "gff3cols = [\"seqid\",\"source\",\"type\",\"start\",\"end\",\"score\",\"strand\",\"phase\",\"attributes\"]"
   ]
  },
  {
   "cell_type": "code",
   "execution_count": 6,
   "id": "7f7eb0e2-3a5a-4d13-8e46-0134d4832386",
   "metadata": {},
   "outputs": [],
   "source": [
    "chess30_gtf_fname = chess3_data_dir+\"chess3.0.gtf\"\n",
    "chess301_gtf_fname = base_dir+\"chess3.0.1/\"+\"chess3.0.1.gtf\""
   ]
  },
  {
   "cell_type": "code",
   "execution_count": 47,
   "id": "64ab5b1e-7420-445c-84a9-afb00f5586d1",
   "metadata": {},
   "outputs": [
    {
     "data": {
      "text/html": [
       "<div>\n",
       "<style scoped>\n",
       "    .dataframe tbody tr th:only-of-type {\n",
       "        vertical-align: middle;\n",
       "    }\n",
       "\n",
       "    .dataframe tbody tr th {\n",
       "        vertical-align: top;\n",
       "    }\n",
       "\n",
       "    .dataframe thead th {\n",
       "        text-align: right;\n",
       "    }\n",
       "</style>\n",
       "<table border=\"1\" class=\"dataframe\">\n",
       "  <thead>\n",
       "    <tr style=\"text-align: right;\">\n",
       "      <th></th>\n",
       "      <th>tid</th>\n",
       "      <th>seqid</th>\n",
       "      <th>gid</th>\n",
       "      <th>gene_type</th>\n",
       "    </tr>\n",
       "  </thead>\n",
       "  <tbody>\n",
       "    <tr>\n",
       "      <th>0</th>\n",
       "      <td>CHS.1.1</td>\n",
       "      <td>chr1</td>\n",
       "      <td>CHS.1</td>\n",
       "      <td>pseudogene</td>\n",
       "    </tr>\n",
       "    <tr>\n",
       "      <th>1</th>\n",
       "      <td>CHS.2.1</td>\n",
       "      <td>chr1</td>\n",
       "      <td>CHS.2</td>\n",
       "      <td>pseudogene</td>\n",
       "    </tr>\n",
       "    <tr>\n",
       "      <th>2</th>\n",
       "      <td>CHS.166734.2</td>\n",
       "      <td>chr1</td>\n",
       "      <td>CHS.166734</td>\n",
       "      <td>other</td>\n",
       "    </tr>\n",
       "    <tr>\n",
       "      <th>3</th>\n",
       "      <td>CHS.166734.1</td>\n",
       "      <td>chr1</td>\n",
       "      <td>CHS.166734</td>\n",
       "      <td>other</td>\n",
       "    </tr>\n",
       "    <tr>\n",
       "      <th>4</th>\n",
       "      <td>CHS.166734.3</td>\n",
       "      <td>chr1</td>\n",
       "      <td>CHS.166734</td>\n",
       "      <td>other</td>\n",
       "    </tr>\n",
       "  </tbody>\n",
       "</table>\n",
       "</div>"
      ],
      "text/plain": [
       "            tid seqid         gid   gene_type\n",
       "0       CHS.1.1  chr1       CHS.1  pseudogene\n",
       "1       CHS.2.1  chr1       CHS.2  pseudogene\n",
       "2  CHS.166734.2  chr1  CHS.166734       other\n",
       "3  CHS.166734.1  chr1  CHS.166734       other\n",
       "4  CHS.166734.3  chr1  CHS.166734       other"
      ]
     },
     "execution_count": 47,
     "metadata": {},
     "output_type": "execute_result"
    }
   ],
   "source": [
    "c3df = definitions.get_attribute(chess301_gtf_fname,[\"gene_id\",\"gene_type\"],[0])\n",
    "c3df.columns = [\"tid\",\"seqid\",\"gid\",\"gene_type\"]\n",
    "c3df.replace({'gene_type': {\"C_region\":\"other\",\n",
    "                            \"C_region_pseudogene\":\"pseudogene\",\n",
    "                            \"D_segment\":\"other\",\n",
    "                            \"J_segment\":\"other\",\n",
    "                            \"J_segment_pseudogene\":\"pseudogene\",\n",
    "                            \"RNase_MRP_RNA\":\"other\",\n",
    "                            \"RNase_P_RNA\":\"other\",\n",
    "                            \"TEC\":\"other\",\n",
    "                            \"V_segment\":\"other\",\n",
    "                            \"V_segment_pseudogene\":\"pseudogene\",\n",
    "                            \"Y_RNA\":\"other\",\n",
    "                            \"antisense_RNA\":\"other\",\n",
    "                            \"lncRNA\":\"lncRNA\",\n",
    "                            \"miRNA\":\"other\",\n",
    "                            \"misc_RNA\":\"other\",\n",
    "                            \"ncRNA\":\"other\",\n",
    "                            \"ncRNA_pseudogene\":\"pseudogene\",\n",
    "                            \"other\":\"other\",\n",
    "                            \"protein_coding\":\"protein_coding\",\n",
    "                            \"pseudogene\":\"pseudogene\",\n",
    "                            \"rRNA\":\"other\",\n",
    "                            \"scRNA\":\"other\",\n",
    "                            \"snRNA\":\"other\",\n",
    "                            \"snoRNA\":\"other\",\n",
    "                            \"tRNA\":\"other\",\n",
    "                            \"telomerase_RNA\":\"other\",\n",
    "                            \"transcribed_pseudogene\":\"pseudogene\",\n",
    "                            \"vault_RNA\":\"other\"}},inplace=True)\n",
    "c3df_pri = c3df[~(c3df[\"seqid\"].str.contains(\"_alt\"))].reset_index(drop=True)[[\"tid\",\"gid\",\"gene_type\"]]\n",
    "c3df_alt = c3df[c3df[\"seqid\"].str.contains(\"_alt\")].reset_index(drop=True)\n",
    "c3df.head()"
   ]
  },
  {
   "cell_type": "code",
   "execution_count": 48,
   "id": "32124757-fbca-4dc3-bcfd-c25d964ffa2c",
   "metadata": {},
   "outputs": [
    {
     "name": "stdout",
     "output_type": "stream",
     "text": [
      "number of transcripts on Alternative scaffolds: 10088\n",
      "number of genes on Alternative scaffolds: 5250\n"
     ]
    }
   ],
   "source": [
    "print(\"number of transcripts on Alternative scaffolds: \"+str(len(c3df_alt)))\n",
    "print(\"number of genes on Alternative scaffolds: \"+str(len(set(c3df_alt[\"gid\"]))))"
   ]
  },
  {
   "cell_type": "code",
   "execution_count": 49,
   "id": "d19ca310-40f1-43b2-97f2-1f8c6332dfa9",
   "metadata": {},
   "outputs": [
    {
     "name": "stdout",
     "output_type": "stream",
     "text": [
      "transcripts\n"
     ]
    },
    {
     "data": {
      "text/html": [
       "<div>\n",
       "<style scoped>\n",
       "    .dataframe tbody tr th:only-of-type {\n",
       "        vertical-align: middle;\n",
       "    }\n",
       "\n",
       "    .dataframe tbody tr th {\n",
       "        vertical-align: top;\n",
       "    }\n",
       "\n",
       "    .dataframe thead th {\n",
       "        text-align: right;\n",
       "    }\n",
       "</style>\n",
       "<table border=\"1\" class=\"dataframe\">\n",
       "  <thead>\n",
       "    <tr style=\"text-align: right;\">\n",
       "      <th></th>\n",
       "      <th>gene_type</th>\n",
       "      <th>tid</th>\n",
       "    </tr>\n",
       "  </thead>\n",
       "  <tbody>\n",
       "    <tr>\n",
       "      <th>0</th>\n",
       "      <td>lncRNA</td>\n",
       "      <td>34709</td>\n",
       "    </tr>\n",
       "    <tr>\n",
       "      <th>1</th>\n",
       "      <td>other</td>\n",
       "      <td>7190</td>\n",
       "    </tr>\n",
       "    <tr>\n",
       "      <th>2</th>\n",
       "      <td>protein_coding</td>\n",
       "      <td>99201</td>\n",
       "    </tr>\n",
       "    <tr>\n",
       "      <th>3</th>\n",
       "      <td>pseudogene</td>\n",
       "      <td>17263</td>\n",
       "    </tr>\n",
       "  </tbody>\n",
       "</table>\n",
       "</div>"
      ],
      "text/plain": [
       "        gene_type    tid\n",
       "0          lncRNA  34709\n",
       "1           other   7190\n",
       "2  protein_coding  99201\n",
       "3      pseudogene  17263"
      ]
     },
     "execution_count": 49,
     "metadata": {},
     "output_type": "execute_result"
    }
   ],
   "source": [
    "print(\"transcripts\")\n",
    "grp = c3df_pri[[\"tid\",\"gene_type\"]].groupby(by=\"gene_type\").count().reset_index()\n",
    "grp"
   ]
  },
  {
   "cell_type": "code",
   "execution_count": 50,
   "id": "7eb3494d-4cf1-4e41-9ee7-391f68e57700",
   "metadata": {},
   "outputs": [
    {
     "name": "stdout",
     "output_type": "stream",
     "text": [
      "genes\n"
     ]
    },
    {
     "data": {
      "text/html": [
       "<div>\n",
       "<style scoped>\n",
       "    .dataframe tbody tr th:only-of-type {\n",
       "        vertical-align: middle;\n",
       "    }\n",
       "\n",
       "    .dataframe tbody tr th {\n",
       "        vertical-align: top;\n",
       "    }\n",
       "\n",
       "    .dataframe thead th {\n",
       "        text-align: right;\n",
       "    }\n",
       "</style>\n",
       "<table border=\"1\" class=\"dataframe\">\n",
       "  <thead>\n",
       "    <tr style=\"text-align: right;\">\n",
       "      <th></th>\n",
       "      <th>gene_type</th>\n",
       "      <th>gid</th>\n",
       "    </tr>\n",
       "  </thead>\n",
       "  <tbody>\n",
       "    <tr>\n",
       "      <th>0</th>\n",
       "      <td>lncRNA</td>\n",
       "      <td>17624</td>\n",
       "    </tr>\n",
       "    <tr>\n",
       "      <th>1</th>\n",
       "      <td>other</td>\n",
       "      <td>4269</td>\n",
       "    </tr>\n",
       "    <tr>\n",
       "      <th>2</th>\n",
       "      <td>protein_coding</td>\n",
       "      <td>19838</td>\n",
       "    </tr>\n",
       "    <tr>\n",
       "      <th>3</th>\n",
       "      <td>pseudogene</td>\n",
       "      <td>16774</td>\n",
       "    </tr>\n",
       "  </tbody>\n",
       "</table>\n",
       "</div>"
      ],
      "text/plain": [
       "        gene_type    gid\n",
       "0          lncRNA  17624\n",
       "1           other   4269\n",
       "2  protein_coding  19838\n",
       "3      pseudogene  16774"
      ]
     },
     "execution_count": 50,
     "metadata": {},
     "output_type": "execute_result"
    }
   ],
   "source": [
    "# genes\n",
    "print(\"genes\")\n",
    "c3df_pri_gene = c3df_pri[[\"gid\",\"gene_type\"]].drop_duplicates()\n",
    "grp = c3df_pri_gene[[\"gid\",\"gene_type\"]].groupby(by=\"gene_type\").count().reset_index()\n",
    "grp"
   ]
  },
  {
   "cell_type": "code",
   "execution_count": null,
   "id": "f55951f3-7b47-4829-936c-2785a9385e95",
   "metadata": {},
   "outputs": [],
   "source": []
  }
 ],
 "metadata": {
  "kernelspec": {
   "display_name": "Python 3 (ipykernel)",
   "language": "python",
   "name": "python3"
  },
  "language_info": {
   "codemirror_mode": {
    "name": "ipython",
    "version": 3
   },
   "file_extension": ".py",
   "mimetype": "text/x-python",
   "name": "python",
   "nbconvert_exporter": "python",
   "pygments_lexer": "ipython3",
   "version": "3.9.16"
  }
 },
 "nbformat": 4,
 "nbformat_minor": 5
}
