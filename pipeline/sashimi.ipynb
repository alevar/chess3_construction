{
 "cells": [
  {
   "cell_type": "code",
   "execution_count": 1,
   "id": "db61db98-895e-44a0-acd2-1d50beae5092",
   "metadata": {
    "tags": []
   },
   "outputs": [],
   "source": [
    "# main imports\n",
    "import gc\n",
    "import os\n",
    "import ast\n",
    "import sys\n",
    "import glob\n",
    "import math\n",
    "import json\n",
    "import shutil\n",
    "import random\n",
    "import importlib\n",
    "import subprocess\n",
    "\n",
    "import itertools\n",
    "\n",
    "import numpy as np\n",
    "import pandas as pd\n",
    "import seaborn as sns\n",
    "\n",
    "import matplotlib.pyplot as plt\n",
    "from matplotlib import animation\n",
    "from matplotlib.lines import Line2D\n",
    "from matplotlib.patches import Patch\n",
    "from matplotlib.ticker import (MultipleLocator, FormatStrFormatter,\n",
    "                               AutoMinorLocator)\n",
    "\n",
    "from mpl_toolkits.axes_grid1.inset_locator import zoomed_inset_axes\n",
    "from mpl_toolkits.axes_grid1.inset_locator import mark_inset\n",
    "\n",
    "# import squarify\n",
    "import seaborn as sns\n",
    "plt.rcParams['figure.figsize'] = (20.0, 10.0)\n",
    "plt.rcParams['font.family'] = \"serif\"\n",
    "plt.rcParams['font.size'] = 24\n",
    "%matplotlib inline"
   ]
  },
  {
   "cell_type": "code",
   "execution_count": 2,
   "id": "8c9ffc34-aceb-4f8a-a57d-919eec8d8eb8",
   "metadata": {
    "tags": []
   },
   "outputs": [],
   "source": [
    "%load_ext autoreload\n",
    "%autoreload 1\n",
    "\n",
    "sys.path.insert(0, \"./soft\")\n",
    "%aimport definitions"
   ]
  },
  {
   "cell_type": "code",
   "execution_count": 16,
   "id": "2ded6aa5-8b6d-4f81-a5e7-3e94211ab3b6",
   "metadata": {
    "tags": []
   },
   "outputs": [],
   "source": [
    "# paths\n",
    "\n",
    "# paths\n",
    "base_dir = \"./\"\n",
    "\n",
    "outdir = base_dir+\"sashimi/\"\n",
    "if not os.path.exists(outdir):\n",
    "    os.makedirs(outdir)\n",
    "\n",
    "igvtools_bin = \"igvtools\"\n",
    "sashimi_bin = \"sashimi.py\"\n",
    "\n",
    "ref_fa_fname = \"hg38_p12_ucsc.no_alts.no_fixs.fa\"\n",
    "chess3_gtf_fname = \"chess3.0.1.primary.gtf\"\n",
    "\n",
    "all_tb_coverage_fname = \"all.def.coverage.bedgraph\"\n",
    "all_tb_junctions_fname = \"all.def.junctions.bed\""
   ]
  },
  {
   "cell_type": "code",
   "execution_count": 4,
   "id": "d33c5b1a-75aa-4669-9fb8-82f0f3dac628",
   "metadata": {},
   "outputs": [],
   "source": [
    "# arguments\n",
    "num_threads=24"
   ]
  },
  {
   "cell_type": "code",
   "execution_count": 6,
   "id": "a5ec62f3-8353-4287-863b-73175a566579",
   "metadata": {
    "tags": []
   },
   "outputs": [],
   "source": [
    "genes = {\"CHS.21604\":[\"TMEM11\",\"CHS.21604.1\"],\n",
    "         \"CHS.27581\":[\"GP6\",\"CHS.27581.3\"]}"
   ]
  },
  {
   "cell_type": "code",
   "execution_count": 10,
   "id": "beb4b0f6-690d-45f4-a6b9-93b39bae5272",
   "metadata": {
    "tags": []
   },
   "outputs": [],
   "source": [
    "# let's extract the coordinates of the genes into a BED file for using with samtools later\n",
    "\n",
    "# first create subset gtf of all genes\n",
    "definitions.subset_gtf(chess3_gtf_fname,outdir+\"genes.gtf\",set(genes),False)\n",
    "\n",
    "# now convert to bed\n",
    "definitions.gtf_to_gene_bed(outdir+\"genes.gtf\",outdir+\"genes.bed\")"
   ]
  },
  {
   "cell_type": "code",
   "execution_count": 11,
   "id": "83c1609d-e0d4-4b58-be45-05f123bda97e",
   "metadata": {
    "tags": []
   },
   "outputs": [],
   "source": [
    "cmd = [\"bedtools\",\"intersect\",\"-a\",all_tb_coverage_fname,\"-b\",outdir+\"genes.bed\",\"-wa\",\"-u\"]\n",
    "with open(outdir+\"genes.cov.bedgraph\",\"w+\") as outFP:\n",
    "    subprocess.call(cmd,stdout=outFP)"
   ]
  },
  {
   "cell_type": "code",
   "execution_count": 12,
   "id": "4cbdc98b-a7d2-46df-aa7f-a281db681e60",
   "metadata": {
    "tags": []
   },
   "outputs": [],
   "source": [
    "cmd = [\"bedtools\",\"intersect\",\"-a\",all_tb_junctions_fname,\"-b\",outdir+\"genes.bed\",\"-wa\",\"-u\"]\n",
    "with open(outdir+\"genes.junctions.bed\",\"w+\") as outFP:\n",
    "    subprocess.call(cmd,stdout=outFP)"
   ]
  },
  {
   "cell_type": "code",
   "execution_count": 13,
   "id": "e04e190b-fc8f-406c-986e-972dd1c98452",
   "metadata": {
    "tags": []
   },
   "outputs": [],
   "source": [
    "for gid,v in genes.items():\n",
    "    # setup gene directory\n",
    "    gdir = outdir+gid+\"/\"\n",
    "    if not os.path.exists(gdir):\n",
    "        os.makedirs(gdir)\n",
    "        \n",
    "    # extract GTF of just that locus in CHESS\n",
    "    definitions.subset_gtf(chess3_gtf_fname,gdir+gid+\".gtf\",set([gid]),False)\n",
    "    # now convert to bed\n",
    "    definitions.gtf_to_gene_bed(gdir+gid+\".gtf\",gdir+gid+\".bed\")"
   ]
  },
  {
   "cell_type": "code",
   "execution_count": 17,
   "id": "68f10377-b44c-4722-a441-3c8882ea87e8",
   "metadata": {
    "tags": []
   },
   "outputs": [],
   "source": [
    "sashimi_fname = outdir+\"sashimi.parallel\"\n",
    "sashimiFP = open(sashimi_fname,\"w+\")\n",
    "for gid,v in genes.items():\n",
    "    mane_tid = v[1]\n",
    "    \n",
    "    # setup gene directory\n",
    "    gdir = outdir+gid+\"/\"\n",
    "    if not os.path.exists(gdir):\n",
    "        os.makedirs(gdir)    \n",
    "\n",
    "    sashimi_cmd = [sashimi_bin,\n",
    "                   \"--compare\",mane_tid,\n",
    "                   \"--sj\",outdir+\"genes.junctions.bed\",\n",
    "                   \"--cov\",outdir+\"genes.cov.bedgraph\",\n",
    "                   \"--title\",v[0],\n",
    "                   \"--gtf\",gdir+gid+\".gtf\",\n",
    "                   \"-o\",gdir+gid+\".svg\"]\n",
    "    sashimiFP.write(\" \".join(sashimi_cmd)+\"\\n\")\n",
    "    \n",
    "sashimiFP.close()"
   ]
  },
  {
   "cell_type": "code",
   "execution_count": null,
   "id": "c381056b-6dcd-4c49-ab6d-092c9d37e613",
   "metadata": {},
   "outputs": [],
   "source": []
  }
 ],
 "metadata": {
  "kernelspec": {
   "display_name": "Python 3 (ipykernel)",
   "language": "python",
   "name": "python3"
  },
  "language_info": {
   "codemirror_mode": {
    "name": "ipython",
    "version": 3
   },
   "file_extension": ".py",
   "mimetype": "text/x-python",
   "name": "python",
   "nbconvert_exporter": "python",
   "pygments_lexer": "ipython3",
   "version": "3.9.16"
  },
  "widgets": {
   "application/vnd.jupyter.widget-state+json": {
    "state": {},
    "version_major": 2,
    "version_minor": 0
   }
  }
 },
 "nbformat": 4,
 "nbformat_minor": 5
}
